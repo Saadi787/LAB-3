{
  "nbformat": 4,
  "nbformat_minor": 0,
  "metadata": {
    "colab": {
      "provenance": [],
      "collapsed_sections": [],
      "authorship_tag": "ABX9TyOW6HrfI4b8fVo/WAz5kBQ7",
      "include_colab_link": true
    },
    "kernelspec": {
      "name": "python3",
      "display_name": "Python 3"
    },
    "language_info": {
      "name": "python"
    }
  },
  "cells": [
    {
      "cell_type": "markdown",
      "metadata": {
        "id": "view-in-github",
        "colab_type": "text"
      },
      "source": [
        "<a href=\"https://colab.research.google.com/github/Saadi787/LAB-3/blob/main/Untitled1.ipynb\" target=\"_parent\"><img src=\"https://colab.research.google.com/assets/colab-badge.svg\" alt=\"Open In Colab\"/></a>"
      ]
    },
    {
      "cell_type": "code",
      "execution_count": 1,
      "metadata": {
        "id": "X7BcoMuXuDY4",
        "colab": {
          "base_uri": "https://localhost:8080/"
        },
        "outputId": "d111a86c-8a3d-47b6-e5ee-f01f145c45b2"
      },
      "outputs": [
        {
          "output_type": "stream",
          "name": "stdout",
          "text": [
            "Arab Zernid Timisoara Sibiu Oradea Lugoj Rimnico vilcea Fagaras Mehadia Pitesti Bucharest "
          ]
        }
      ],
      "source": [
        " \n",
        "\n",
        "# In[12]:\n",
        "\n",
        "\n",
        "graph={\n",
        "    'Arab':['Zernid','Timisoara','Sibiu'],\n",
        "    'Zernid':['Arab','Oradea'],\n",
        "    'Timisoara':['Arab','Lugoj'],\n",
        "    'Sibiu':['Rimnico vilcea','Arab','Oradea','Fagaras'],\n",
        "    'Oradea':['Zernid','Sibiu'],\n",
        "    'Lugoj':['Mehadia'],\n",
        "    'Mehadia':['Drobeta'],\n",
        "    'Craiova':['Drobeta','Pitesti','Rimnico vilcea'],\n",
        "    'Drobeta':['Mehadia','Craiova'],\n",
        "    'Pitesti':['Craiova','Rimnico vilcea','Bucharest'],\n",
        "    'Rimnico vilcea':['Pitesti','Sibiu'],\n",
        "    'Fagaras':['Sibiu','Bucharest'],\n",
        "    'Bucharest':['Giurgiu','Urziceni','Pitesti','Fagaras'],\n",
        "    'Giurgiu':['Bucharrest'],\n",
        "    'Urziceni':['Hirsova','Valsui'],\n",
        "    'Hirsova':['Eforie','Urziceni'],\n",
        "    'Eforie':['Hirsova'],\n",
        "    'Valsui':['Iasi','Urziceni'],\n",
        "    'Iasi':['Valsui','Neamt'],\n",
        "    'Neamt':['Iasi'],\n",
        "}\n",
        "visited = [] \n",
        "queue = []   \n",
        "def bfs(visited, graph, node,end):\n",
        "  visited.append(node)\n",
        "  queue.append(node)\n",
        "  while queue:\n",
        "    s = queue.pop(0) \n",
        "    print (s, end = \" \") \n",
        "    if s==end:\n",
        "        break\n",
        "    for neighbour in graph[s]:\n",
        "      if neighbour not in visited:\n",
        "        visited.append(neighbour)\n",
        "        queue.append(neighbour)\n",
        "bfs(visited, graph, 'Arab','Bucharest')\n"
      ]
    },
    {
      "cell_type": "code",
      "source": [
        "graph={\n",
        "    '1':['2'],\n",
        "    '2':['1','3'],\n",
        "    '3':['4','2'],\n",
        "    '4':['3','5','6'],\n",
        "    '6':['4','7'],\n",
        "    '7':['6','9','8'],\n",
        "    '8':['7','10'],\n",
        "    '9':['7','10'],\n",
        "    '10':['11','8','9'],\n",
        "    '11':['10','12'],\n",
        "    '12':['11','13','14'],\n",
        "    '13':['12'],\n",
        "    '14':['12','15'],\n",
        "    '15':['16','14'],\n",
        "    '16':['25','15'],\n",
        "    '25':['24','16'],\n",
        "    '24':['23','25'],\n",
        "    '23':['24','22'],\n",
        "    '22':['21','23'],\n",
        "    '21':['20','22'],\n",
        "    '20':['19','21'],\n",
        "    '19':['18','20'],\n",
        "    '18':['17','19'],\n",
        "    '17':['18','5'],\n",
        "    '5':['4','17'],\n",
        "}\n",
        "visited = [] \n",
        "queue = []   \n",
        "def bfs(visited, graph, node,end):\n",
        "  visited.append(node)\n",
        "  queue.append(node)\n",
        "  while queue:\n",
        "    s = queue.pop(0) \n",
        "    print (s, end = \" \") \n",
        "    if s==end:\n",
        "        break\n",
        "    for neighbour in graph[s]:\n",
        "      if neighbour not in visited:\n",
        "        visited.append(neighbour)\n",
        "        queue.append(neighbour)\n",
        "bfs(visited, graph, '1','16')\n"
      ],
      "metadata": {
        "id": "7TcWdEc2v30b"
      },
      "execution_count": null,
      "outputs": []
    }
  ]
}